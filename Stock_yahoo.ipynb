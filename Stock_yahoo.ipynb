{
  "nbformat": 4,
  "nbformat_minor": 0,
  "metadata": {
    "colab": {
      "name": "Stock_yahoo.ipynb",
      "provenance": [],
      "toc_visible": true,
      "authorship_tag": "ABX9TyNPCAN95lchIUqXvfdTfG8R",
      "include_colab_link": true
    },
    "kernelspec": {
      "name": "python3",
      "display_name": "Python 3"
    }
  },
  "cells": [
    {
      "cell_type": "markdown",
      "metadata": {
        "id": "view-in-github",
        "colab_type": "text"
      },
      "source": [
        "<a href=\"https://colab.research.google.com/github/mcondemaita/Projects_python/blob/main/Stock_yahoo.ipynb\" target=\"_parent\"><img src=\"https://colab.research.google.com/assets/colab-badge.svg\" alt=\"Open In Colab\"/></a>"
      ]
    },
    {
      "cell_type": "code",
      "metadata": {
        "colab": {
          "base_uri": "https://localhost:8080/"
        },
        "id": "d5MfzBz4z48w",
        "outputId": "6a7b3ddd-ca32-449f-d346-3d38b2bef58e"
      },
      "source": [
        "#pip install pandas\n",
        "% pip install numpy\n",
        "\n",
        "import pandas as pd   # dataframe ( makes your data looks like excell)\n",
        "import numpy as np  #  calculation \n",
        "import pandas_datareader as pdr #pandas dataframe to get stock data inport data API form yahoo \n",
        "\n",
        "import datetime # when working with dates\n"
      ],
      "execution_count": null,
      "outputs": [
        {
          "output_type": "stream",
          "name": "stdout",
          "text": [
            "Requirement already satisfied: numpy in /usr/local/lib/python3.7/dist-packages (1.21.5)\n"
          ]
        }
      ]
    },
    {
      "cell_type": "code",
      "metadata": {
        "id": "zfJCeQM82cHX",
        "colab": {
          "base_uri": "https://localhost:8080/"
        },
        "outputId": "3d68afb6-7ad9-4b46-cf29-8ff9da921de9"
      },
      "source": [
        "#make it interative for user \n",
        "\n",
        "symbolA = input(\"Enter Symbol of Stock 1: \")\n",
        "symbolB = input(\"Enter Symbol of Stock 2: \")\n",
        "\n",
        "#user enters the start date of stock analysis \n",
        "\n",
        "date_entry = input('Enter a start date in YYYY-MM-DD format: ')\n",
        "year, month, day = map(int, date_entry.split('-'))\n",
        "start = datetime.date(year,month,day)\n",
        "\n",
        "#User enters the end date of the stock analysis:  form yahoo \n",
        "date_entry = input('Enter a end date in YYYY-MM-DD Format: ')\n",
        "year,month,day = map(int, date_entry.split('-'))\n",
        "end = datetime.date(year,month,day) "
      ],
      "execution_count": null,
      "outputs": [
        {
          "name": "stdout",
          "output_type": "stream",
          "text": [
            "Enter Symbol of Stock 1: TSLA\n",
            "Enter Symbol of Stock 2: AAPL\n",
            "Enter a start date in YYYY-MM-DD format: 2021-03-03\n",
            "Enter a end date in YYYY-MM-DD Format: 2022-03-03\n"
          ]
        }
      ]
    },
    {
      "cell_type": "markdown",
      "metadata": {
        "id": "r8GncXEe8Fvi"
      },
      "source": [
        "# New Section"
      ]
    },
    {
      "cell_type": "markdown",
      "metadata": {
        "id": "f8cRuVM18GNT"
      },
      "source": [
        "# New Section"
      ]
    },
    {
      "cell_type": "code",
      "metadata": {
        "id": "MyOqGD7VLJ7Y",
        "colab": {
          "base_uri": "https://localhost:8080/"
        },
        "outputId": "1797667b-eef8-4bef-a409-4271e85a6060"
      },
      "source": [
        "#LOOK at date \n",
        "print(type(end))\n",
        "print('start_date', start)\n",
        "print('end_date', end)\n",
        "\n",
        "print('symbolA', symbolA)\n",
        "print('symbolB', symbolB)\n"
      ],
      "execution_count": null,
      "outputs": [
        {
          "output_type": "stream",
          "name": "stdout",
          "text": [
            "<class 'datetime.date'>\n",
            "start_date 2021-03-03\n",
            "end_date 2022-03-03\n",
            "symbolA TSLA\n",
            "symbolB AAPL\n"
          ]
        }
      ]
    },
    {
      "cell_type": "code",
      "metadata": {
        "id": "uHshdj3QAr_e"
      },
      "source": [
        "## Import data from Yahoo\n",
        "## revuires 4 imputs (stock symbol, API, start and end)\n",
        "\n",
        "TSLA= pdr.DataReader(symbolA, 'yahoo', start, end)\n",
        "AAPL= pdr.DataReader(symbolB, 'yahoo', start, end)"
      ],
      "execution_count": null,
      "outputs": []
    },
    {
      "cell_type": "code",
      "metadata": {
        "colab": {
          "base_uri": "https://localhost:8080/",
          "height": 235
        },
        "id": "Pxinn4W7U1_I",
        "outputId": "92c2141f-f3db-4461-c5af-480730570c6d"
      },
      "source": [
        "#Explore stocks\n",
        "\n",
        "TSLA.head(7)  #first 7 items \n",
        "AAPL.tail(5) "
      ],
      "execution_count": null,
      "outputs": [
        {
          "output_type": "execute_result",
          "data": {
            "text/html": [
              "<div>\n",
              "<style scoped>\n",
              "    .dataframe tbody tr th:only-of-type {\n",
              "        vertical-align: middle;\n",
              "    }\n",
              "\n",
              "    .dataframe tbody tr th {\n",
              "        vertical-align: top;\n",
              "    }\n",
              "\n",
              "    .dataframe thead th {\n",
              "        text-align: right;\n",
              "    }\n",
              "</style>\n",
              "<table border=\"1\" class=\"dataframe\">\n",
              "  <thead>\n",
              "    <tr style=\"text-align: right;\">\n",
              "      <th></th>\n",
              "      <th>High</th>\n",
              "      <th>Low</th>\n",
              "      <th>Open</th>\n",
              "      <th>Close</th>\n",
              "      <th>Volume</th>\n",
              "      <th>Adj Close</th>\n",
              "    </tr>\n",
              "    <tr>\n",
              "      <th>Date</th>\n",
              "      <th></th>\n",
              "      <th></th>\n",
              "      <th></th>\n",
              "      <th></th>\n",
              "      <th></th>\n",
              "      <th></th>\n",
              "    </tr>\n",
              "  </thead>\n",
              "  <tbody>\n",
              "    <tr>\n",
              "      <th>2020-11-24</th>\n",
              "      <td>115.849998</td>\n",
              "      <td>112.589996</td>\n",
              "      <td>113.910004</td>\n",
              "      <td>115.169998</td>\n",
              "      <td>113874200.0</td>\n",
              "      <td>114.998154</td>\n",
              "    </tr>\n",
              "    <tr>\n",
              "      <th>2020-11-25</th>\n",
              "      <td>116.750000</td>\n",
              "      <td>115.169998</td>\n",
              "      <td>115.550003</td>\n",
              "      <td>116.029999</td>\n",
              "      <td>76499200.0</td>\n",
              "      <td>115.856873</td>\n",
              "    </tr>\n",
              "    <tr>\n",
              "      <th>2020-11-27</th>\n",
              "      <td>117.489998</td>\n",
              "      <td>116.220001</td>\n",
              "      <td>116.570000</td>\n",
              "      <td>116.589996</td>\n",
              "      <td>46691300.0</td>\n",
              "      <td>116.416031</td>\n",
              "    </tr>\n",
              "    <tr>\n",
              "      <th>2020-11-30</th>\n",
              "      <td>120.970001</td>\n",
              "      <td>116.809998</td>\n",
              "      <td>116.970001</td>\n",
              "      <td>119.050003</td>\n",
              "      <td>169410200.0</td>\n",
              "      <td>118.872368</td>\n",
              "    </tr>\n",
              "    <tr>\n",
              "      <th>2020-12-01</th>\n",
              "      <td>123.470001</td>\n",
              "      <td>120.010002</td>\n",
              "      <td>121.010002</td>\n",
              "      <td>122.720001</td>\n",
              "      <td>128166800.0</td>\n",
              "      <td>122.536896</td>\n",
              "    </tr>\n",
              "  </tbody>\n",
              "</table>\n",
              "</div>"
            ],
            "text/plain": [
              "                  High         Low  ...       Volume   Adj Close\n",
              "Date                                ...                         \n",
              "2020-11-24  115.849998  112.589996  ...  113874200.0  114.998154\n",
              "2020-11-25  116.750000  115.169998  ...   76499200.0  115.856873\n",
              "2020-11-27  117.489998  116.220001  ...   46691300.0  116.416031\n",
              "2020-11-30  120.970001  116.809998  ...  169410200.0  118.872368\n",
              "2020-12-01  123.470001  120.010002  ...  128166800.0  122.536896\n",
              "\n",
              "[5 rows x 6 columns]"
            ]
          },
          "metadata": {
            "tags": []
          },
          "execution_count": 50
        }
      ]
    },
    {
      "cell_type": "code",
      "metadata": {
        "id": "1Gga5fqqNNj1",
        "colab": {
          "base_uri": "https://localhost:8080/"
        },
        "outputId": "02bbe7c4-696f-4d23-a1f2-16d006339014"
      },
      "source": [
        "#only keep columns that you want to analyze\n",
        "\n",
        "TSLA_ = TSLA[['Adj Close','High' ]]\n",
        "print(type(TSLA_))"
      ],
      "execution_count": null,
      "outputs": [
        {
          "output_type": "stream",
          "text": [
            "<class 'pandas.core.frame.DataFrame'>\n"
          ],
          "name": "stdout"
        }
      ]
    },
    {
      "cell_type": "code",
      "metadata": {
        "colab": {
          "base_uri": "https://localhost:8080/"
        },
        "id": "FCQnfjaYWLxp",
        "outputId": "49dcc10e-f02b-4b2c-bffe-9a2e8a5708f9"
      },
      "source": [
        "#are there any missing number \n",
        "\n",
        "TSLA_.isnull().sum()"
      ],
      "execution_count": null,
      "outputs": [
        {
          "output_type": "execute_result",
          "data": {
            "text/plain": [
              "Adj Close    0\n",
              "High         0\n",
              "dtype: int64"
            ]
          },
          "metadata": {
            "tags": []
          },
          "execution_count": 56
        }
      ]
    },
    {
      "cell_type": "code",
      "metadata": {
        "id": "u_Sv3U8jWken"
      },
      "source": [
        "###identify index and columns + rename a column \n",
        "\n",
        "TSLA_.index\n",
        "TSLA_.columns\n",
        "\n",
        "TSLA_.rename(columns={'Adj Close': 'Adj_Close', 'High': 'High_'}, inplace=True)\n",
        "print(TSLA_.rename)"
      ],
      "execution_count": null,
      "outputs": []
    },
    {
      "cell_type": "code",
      "metadata": {
        "colab": {
          "base_uri": "https://localhost:8080/",
          "height": 297
        },
        "id": "yKNQwAngY3yz",
        "outputId": "3e4a1be4-9068-4fee-ead9-86ebb6a65285"
      },
      "source": [
        "TSLA_.head(7)"
      ],
      "execution_count": null,
      "outputs": [
        {
          "output_type": "execute_result",
          "data": {
            "text/html": [
              "<div>\n",
              "<style scoped>\n",
              "    .dataframe tbody tr th:only-of-type {\n",
              "        vertical-align: middle;\n",
              "    }\n",
              "\n",
              "    .dataframe tbody tr th {\n",
              "        vertical-align: top;\n",
              "    }\n",
              "\n",
              "    .dataframe thead th {\n",
              "        text-align: right;\n",
              "    }\n",
              "</style>\n",
              "<table border=\"1\" class=\"dataframe\">\n",
              "  <thead>\n",
              "    <tr style=\"text-align: right;\">\n",
              "      <th></th>\n",
              "      <th>Adj_Close</th>\n",
              "      <th>High_</th>\n",
              "    </tr>\n",
              "    <tr>\n",
              "      <th>Date</th>\n",
              "      <th></th>\n",
              "      <th></th>\n",
              "    </tr>\n",
              "  </thead>\n",
              "  <tbody>\n",
              "    <tr>\n",
              "      <th>2019-12-12</th>\n",
              "      <td>71.935997</td>\n",
              "      <td>72.547997</td>\n",
              "    </tr>\n",
              "    <tr>\n",
              "      <th>2019-12-13</th>\n",
              "      <td>71.678001</td>\n",
              "      <td>73.042000</td>\n",
              "    </tr>\n",
              "    <tr>\n",
              "      <th>2019-12-16</th>\n",
              "      <td>76.300003</td>\n",
              "      <td>76.722000</td>\n",
              "    </tr>\n",
              "    <tr>\n",
              "      <th>2019-12-17</th>\n",
              "      <td>75.797997</td>\n",
              "      <td>77.099998</td>\n",
              "    </tr>\n",
              "    <tr>\n",
              "      <th>2019-12-18</th>\n",
              "      <td>78.629997</td>\n",
              "      <td>79.043999</td>\n",
              "    </tr>\n",
              "    <tr>\n",
              "      <th>2019-12-19</th>\n",
              "      <td>80.807999</td>\n",
              "      <td>81.370003</td>\n",
              "    </tr>\n",
              "    <tr>\n",
              "      <th>2019-12-20</th>\n",
              "      <td>81.117996</td>\n",
              "      <td>82.599998</td>\n",
              "    </tr>\n",
              "  </tbody>\n",
              "</table>\n",
              "</div>"
            ],
            "text/plain": [
              "            Adj_Close      High_\n",
              "Date                            \n",
              "2019-12-12  71.935997  72.547997\n",
              "2019-12-13  71.678001  73.042000\n",
              "2019-12-16  76.300003  76.722000\n",
              "2019-12-17  75.797997  77.099998\n",
              "2019-12-18  78.629997  79.043999\n",
              "2019-12-19  80.807999  81.370003\n",
              "2019-12-20  81.117996  82.599998"
            ]
          },
          "metadata": {
            "tags": []
          },
          "execution_count": 68
        }
      ]
    },
    {
      "cell_type": "code",
      "metadata": {
        "colab": {
          "base_uri": "https://localhost:8080/"
        },
        "id": "PN8__zu2Y8TP",
        "outputId": "ac5f2a10-8f8d-4b81-d744-0694d92c180b"
      },
      "source": [
        "TSLA_.Adj_Close.max()\n",
        "TSLA_.Adj_Close.min()\n",
        "TSLA_.Adj_Close.mean()"
      ],
      "execution_count": null,
      "outputs": [
        {
          "output_type": "execute_result",
          "data": {
            "text/plain": [
              "248.7511830855389"
            ]
          },
          "metadata": {
            "tags": []
          },
          "execution_count": 69
        }
      ]
    }
  ]
}