{
  "nbformat": 4,
  "nbformat_minor": 0,
  "metadata": {
    "colab": {
      "name": "Class.py ",
      "provenance": [],
      "authorship_tag": "ABX9TyMCKN0N9RjGm6KT1EOIWTMT",
      "include_colab_link": true
    },
    "kernelspec": {
      "name": "python3",
      "display_name": "Python 3"
    },
    "language_info": {
      "name": "python"
    }
  },
  "cells": [
    {
      "cell_type": "markdown",
      "metadata": {
        "id": "view-in-github",
        "colab_type": "text"
      },
      "source": [
        "<a href=\"https://colab.research.google.com/github/mcondemaita/Projects_python/blob/main/Class_py.ipynb\" target=\"_parent\"><img src=\"https://colab.research.google.com/assets/colab-badge.svg\" alt=\"Open In Colab\"/></a>"
      ]
    },
    {
      "cell_type": "code",
      "source": [
        "#to create a circle need libraries \n",
        "import matplotlib.pyplot as plt\n",
        "%matplotlib inline"
      ],
      "metadata": {
        "id": "1JSIUtuMR3vx"
      },
      "execution_count": null,
      "outputs": []
    },
    {
      "cell_type": "code",
      "source": [
        "class circle():\n",
        "#Constructor \n",
        "  def __init__(self, radius, color):\n",
        "    self.radius = radius\n",
        "    self.color = color \n",
        "  #Method \n",
        "  def add_radius(self, r): \n",
        "    self.radius = self.radius + r\n",
        "    return(self.radius)\n",
        "  #Method \n",
        "  def drawCircle(self):\n",
        "    plt.gca().add_patch(plt.Circle((0,0), radius= self.radius, fc = self.color))\n",
        "    plt.axis('scaled')\n",
        "    plt.show()"
      ],
      "metadata": {
        "id": "B3C6V68lSJY-"
      },
      "execution_count": null,
      "outputs": []
    },
    {
      "cell_type": "code",
      "source": [
        "#create an object bluecircle\n",
        "Blucircle = circle(10, 'blue')\n",
        "#use dic command to get a list of the objects methods.  \n",
        "dir(Blucircle)"
      ],
      "metadata": {
        "id": "muAJHHPtVi7a"
      },
      "execution_count": null,
      "outputs": []
    },
    {
      "cell_type": "code",
      "source": [
        "#print object attributes like radius or color\n",
        "Blucircle.radius\n",
        "Blucircle.color"
      ],
      "metadata": {
        "colab": {
          "base_uri": "https://localhost:8080/",
          "height": 36
        },
        "id": "O2K2XrudV7pN",
        "outputId": "72112d7f-6bb9-441c-a41a-f7a72cc3a042"
      },
      "execution_count": null,
      "outputs": [
        {
          "output_type": "execute_result",
          "data": {
            "application/vnd.google.colaboratory.intrinsic+json": {
              "type": "string"
            },
            "text/plain": [
              "'blue'"
            ]
          },
          "metadata": {},
          "execution_count": 20
        }
      ]
    },
    {
      "cell_type": "code",
      "source": [
        "Blucircle.drawCircle()"
      ],
      "metadata": {
        "colab": {
          "base_uri": "https://localhost:8080/",
          "height": 264
        },
        "id": "CteQ7oNSWPwm",
        "outputId": "2f3316b3-af83-4dda-a7ba-d430ca894613"
      },
      "execution_count": null,
      "outputs": [
        {
          "output_type": "display_data",
          "data": {
            "image/png": "[encoded data removed]",
            "text/plain": [
              "<Figure size 432x288 with 1 Axes>"
            ]
          },
          "metadata": {
            "needs_background": "light"
          }
        }
      ]
    },
    {
      "cell_type": "code",
      "source": [
        "print(\"Radius of object: \", Blucircle.radius)\n",
        "Blucircle.add_radius(2)"
      ],
      "metadata": {
        "id": "rIVi4v7Re2pJ"
      },
      "execution_count": null,
      "outputs": []
    },
    {
      "cell_type": "code",
      "source": [
        "a = 12\n",
        "def do(x):\n",
        "  a = 100\n",
        "  return(x+a)\n",
        "\n",
        "print(do(a))"
      ],
      "metadata": {
        "colab": {
          "base_uri": "https://localhost:8080/"
        },
        "id": "HPXvHEZx9clQ",
        "outputId": "a7953d33-fdde-48a0-a698-6580570e771d"
      },
      "execution_count": 6,
      "outputs": [
        {
          "output_type": "stream",
          "name": "stdout",
          "text": [
            "112\n"
          ]
        }
      ]
    },
    {
      "cell_type": "code",
      "source": [
        "def add(a,b):\n",
        "  result = a+b\n",
        "  return result\n",
        "  \n",
        "print(add(2,3))"
      ],
      "metadata": {
        "colab": {
          "base_uri": "https://localhost:8080/"
        },
        "id": "m_ENbUvL-L6_",
        "outputId": "a30f1fc7-251a-48da-87aa-9d9f5c06824f"
      },
      "execution_count": 13,
      "outputs": [
        {
          "output_type": "stream",
          "name": "stdout",
          "text": [
            "5\n"
          ]
        }
      ]
    },
    {
      "cell_type": "code",
      "source": [
        "for i, x in enumerate(['A','B','C','D']):\n",
        "  print(i,5*x) ##i is an interger each element in x is a string, so the '*' repeasts the string"
      ],
      "metadata": {
        "colab": {
          "base_uri": "https://localhost:8080/"
        },
        "id": "avz3HBdKBcBd",
        "outputId": "cb37e170-9974-4c53-8fbe-bf533851ab46"
      },
      "execution_count": 15,
      "outputs": [
        {
          "output_type": "stream",
          "name": "stdout",
          "text": [
            "0 AAAAA\n",
            "1 BBBBB\n",
            "2 CCCCC\n",
            "3 DDDDD\n"
          ]
        }
      ]
    },
    {
      "cell_type": "code",
      "metadata": {
        "id": "sI0eIUoEFSoF"
      },
      "source": [
        "def mystery():\n",
        "  toPrint = 0;\n",
        "  for i in range(3):\n",
        "    toPrint += i;\n",
        "\n",
        "  print(toPrint);"
      ],
      "execution_count": null,
      "outputs": []
    }
  ]
}