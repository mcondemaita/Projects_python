{
  "nbformat": 4,
  "nbformat_minor": 0,
  "metadata": {
    "colab": {
      "name": "Reading Files.ipynb",
      "provenance": [],
      "authorship_tag": "ABX9TyOuRdGeGUtBUDj3ZkW/bqsF",
      "include_colab_link": true
    },
    "kernelspec": {
      "name": "python3",
      "display_name": "Python 3"
    },
    "language_info": {
      "name": "python"
    }
  },
  "cells": [
    {
      "cell_type": "markdown",
      "metadata": {
        "id": "view-in-github",
        "colab_type": "text"
      },
      "source": [
        "<a href=\"https://colab.research.google.com/github/mcondemaita/Projects_python/blob/main/Reading_Files.ipynb\" target=\"_parent\"><img src=\"https://colab.research.google.com/assets/colab-badge.svg\" alt=\"Open In Colab\"/></a>"
      ]
    },
    {
      "cell_type": "code",
      "execution_count": 7,
      "metadata": {
        "colab": {
          "base_uri": "https://localhost:8080/"
        },
        "id": "-TR8au7ZC8Qd",
        "outputId": "7047310d-53b4-4289-f3e6-8646f65b7eb0"
      },
      "outputs": [
        {
          "output_type": "stream",
          "name": "stdout",
          "text": [
            "b'7 units of wallboard \\r4 units of sheetrock (green) \\r1 backet of compound \\r1 bag of plaster \\r1 Sandpaper pack \\r2 painting rolls and 2 brush tools\\r1 bag of thinset white \\r3 pieces of Baseboards 12\\xd5\\r5 pieces for doorframe 8\\xd5\\r1 box screws of 2\\xd3 inches for the sheetrocks \\r2 backet of paint (coats included) color as your preference. \\r'\n",
            "True\n"
          ]
        }
      ],
      "source": [
        "with open('/content/material.txt','rb') as File2:\n",
        "  file_material = File2.read() #save as string \n",
        "  print(file_material)\n",
        "print(File2.closed)"
      ]
    },
    {
      "cell_type": "code",
      "source": [
        "file2 = open(\"/content/material.txt\",\"w\") #write \n"
      ],
      "metadata": {
        "id": "UmKP4LhmkJDb"
      },
      "execution_count": 13,
      "outputs": []
    },
    {
      "cell_type": "code",
      "source": [
        "with open(\"/content/material.txt\", \"r\") as file2:\n",
        "  material_list = [line.strip() for line in file2.readlines()]\n",
        "  for material in sorted(material_list):\n",
        "    print(material_list)\n",
        "\n",
        "print(material_list)"
      ],
      "metadata": {
        "colab": {
          "base_uri": "https://localhost:8080/"
        },
        "id": "G3AHpfjfqoZl",
        "outputId": "6ea6ed59-7982-4a99-a81d-a0208e3751d7"
      },
      "execution_count": 18,
      "outputs": [
        {
          "output_type": "stream",
          "name": "stdout",
          "text": [
            "[]\n"
          ]
        }
      ]
    },
    {
      "cell_type": "code",
      "source": [
        "#to write each element in a list to a file \n",
        "\n",
        "lines = [\"this is line A\\n\", \"this is line B\\n\", \"this is line C\\n\"]\n",
        "\n",
        "with open(\"/content/Midterm .docx\", \"w\") as file2:\n",
        "  for line in lines:\n",
        "    file2.write(line)\n",
        "    print(file_material)"
      ],
      "metadata": {
        "colab": {
          "base_uri": "https://localhost:8080/"
        },
        "id": "JU_EKiySkb2Q",
        "outputId": "c44df450-ca9e-4482-dfa4-2c2c3ad94c74"
      },
      "execution_count": 11,
      "outputs": [
        {
          "output_type": "stream",
          "name": "stdout",
          "text": [
            "b'7 units of wallboard \\r4 units of sheetrock (green) \\r1 backet of compound \\r1 bag of plaster \\r1 Sandpaper pack \\r2 painting rolls and 2 brush tools\\r1 bag of thinset white \\r3 pieces of Baseboards 12\\xd5\\r5 pieces for doorframe 8\\xd5\\r1 box screws of 2\\xd3 inches for the sheetrocks \\r2 backet of paint (coats included) color as your preference. \\r'\n",
            "b'7 units of wallboard \\r4 units of sheetrock (green) \\r1 backet of compound \\r1 bag of plaster \\r1 Sandpaper pack \\r2 painting rolls and 2 brush tools\\r1 bag of thinset white \\r3 pieces of Baseboards 12\\xd5\\r5 pieces for doorframe 8\\xd5\\r1 box screws of 2\\xd3 inches for the sheetrocks \\r2 backet of paint (coats included) color as your preference. \\r'\n",
            "b'7 units of wallboard \\r4 units of sheetrock (green) \\r1 backet of compound \\r1 bag of plaster \\r1 Sandpaper pack \\r2 painting rolls and 2 brush tools\\r1 bag of thinset white \\r3 pieces of Baseboards 12\\xd5\\r5 pieces for doorframe 8\\xd5\\r1 box screws of 2\\xd3 inches for the sheetrocks \\r2 backet of paint (coats included) color as your preference. \\r'\n"
          ]
        }
      ]
    },
    {
      "cell_type": "code",
      "source": [
        "#append the file \n",
        "\n",
        "with open('/content/material.txt', 'a') as file2:\n",
        "  file2.write('This is line C')\n",
        "  print(file2)"
      ],
      "metadata": {
        "colab": {
          "base_uri": "https://localhost:8080/"
        },
        "id": "bBPXXeuJzIXv",
        "outputId": "619c6155-15d4-4128-b059-2e2d7d78b6fd"
      },
      "execution_count": 20,
      "outputs": [
        {
          "output_type": "stream",
          "name": "stdout",
          "text": [
            "<_io.TextIOWrapper name='/content/material.txt' mode='a' encoding='UTF-8'>\n"
          ]
        }
      ]
    },
    {
      "cell_type": "code",
      "source": [
        "#interact with files - copy to the writefile \n",
        "\n",
        "with open('/content/material.txt', 'r') as readfile:\n",
        "  with open('/content/Midterm .docx', 'w') as writefile:\n",
        "    for line in readfile: \n",
        "      writefile.write(line)"
      ],
      "metadata": {
        "id": "5khKM1_1xw6i"
      },
      "execution_count": 21,
      "outputs": []
    }
  ]
}