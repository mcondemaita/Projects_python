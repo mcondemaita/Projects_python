{
  "nbformat": 4,
  "nbformat_minor": 0,
  "metadata": {
    "colab": {
      "name": "WebScraping.ipynb",
      "provenance": [],
      "authorship_tag": "ABX9TyPfHyI8vii5dAnYVGRtBG6v",
      "include_colab_link": true
    },
    "kernelspec": {
      "name": "python3",
      "display_name": "Python 3"
    },
    "language_info": {
      "name": "python"
    }
  },
  "cells": [
    {
      "cell_type": "markdown",
      "metadata": {
        "id": "view-in-github",
        "colab_type": "text"
      },
      "source": [
        "<a href=\"https://colab.research.google.com/github/mcondemaita/Projects_python/blob/main/WebScraping.ipynb\" target=\"_parent\"><img src=\"https://colab.research.google.com/assets/colab-badge.svg\" alt=\"Open In Colab\"/></a>"
      ]
    },
    {
      "cell_type": "code",
      "execution_count": null,
      "metadata": {
        "id": "1IKiAZqK_oW0"
      },
      "outputs": [],
      "source": [
        "#Import modules and funtions\n",
        "from bs4 import BeautifulSoup # This module helps in web Scrapping\n",
        "import requests #this module helps us download a web page "
      ]
    },
    {
      "cell_type": "markdown",
      "source": [
        "Beautiful Soup is a Python library for pulling data out of HTML and XML files. We can navigate the HTML as a tree and/or filter out what we are looking for."
      ],
      "metadata": {
        "id": "kcBwFc1LhIGS"
      }
    },
    {
      "cell_type": "code",
      "source": [
        "%%html\n",
        "<!DOCTYPE html>\n",
        "<html>\n",
        "\n",
        "<head>\n",
        "<title> Page Title </title> \n",
        "</head>\n",
        "\n",
        "<body>\n",
        "<h3><b id= 'boldest'>Lebron James</b></h3> #head3 boldest for the found \n",
        "<p> Salary:$92,000,000 </p>\n",
        "\n",
        "<h3>Stephen Curry</h3>\n",
        "<p> Salary:$85,000,000 </p>\n",
        "\n",
        "<h4>Maria C</h4>\n",
        "<p> Salary:$75,000 </p>\n",
        "\n",
        "</body>\n",
        "</html>\n"
      ],
      "metadata": {
        "colab": {
          "base_uri": "https://localhost:8080/",
          "height": 223
        },
        "id": "1xFkfzF3hWyo",
        "outputId": "fea4262e-940b-4ba6-a731-4e9b6657e51c"
      },
      "execution_count": null,
      "outputs": [
        {
          "output_type": "display_data",
          "data": {
            "text/plain": [
              "<IPython.core.display.HTML object>"
            ],
            "text/html": [
              "<!DOCTYPE html>\n",
              "<html>\n",
              "\n",
              "<head>\n",
              "<title> Page Title </title> \n",
              "</head>\n",
              "\n",
              "<body>\n",
              "<h3><b id= 'boldest'>Lebron James</b></h3> #head3 boldest for the found \n",
              "<p> Salary:$92,000,000 </p>\n",
              "\n",
              "<h3>Stephen Curry</h3>\n",
              "<p> Salary:$85,000,000 </p>\n",
              "\n",
              "<h4>Maria C</h4>\n",
              "<p> Salary:$75,000 </p>\n",
              "\n",
              "</body>\n",
              "</html>"
            ]
          },
          "metadata": {}
        }
      ]
    },
    {
      "cell_type": "code",
      "source": [
        "#We can store it as a string with a bariable HTML: \n",
        "html=\"<!DOCTYPE html><html><head><title> Page Title </title></head><body><h3><b id= 'boldest'>Lebron James</b></h3><p> Salary:$92,000,000 </p><h3>Stephen Curry</h3><p> Salary:$85,000,000 </p><h4>Maria C</h4><p>Salary:$75,000</p></body></html>\""
      ],
      "metadata": {
        "id": "7qlfs8wZjshk"
      },
      "execution_count": null,
      "outputs": []
    },
    {
      "cell_type": "code",
      "source": [
        "#To parse(examine de data) a document, pass into the beautifulSoup constructor, The BS object, wich represet a document as nested data structure \n",
        "soup = BeautifulSoup(html,\"html.parser\") \n",
        "#First, the document is converted to Unicode, (similar to ASCII), and HTML entities are converted to Unicode characters. Beautiful Soup transforms a complex HTML document into a complex tree of Python objects. The BeautifulSoup object can create other types of objects. In this lab, we will cover BeautifulSoup and Tag objects that for the purposes of this lab are identical, and NavigableString objects.\n",
        "#We can use the method prettify() to display the HTML in the nested structure:\n",
        "print(soup.prettify()) #tree nested structure "
      ],
      "metadata": {
        "colab": {
          "base_uri": "https://localhost:8080/"
        },
        "id": "pQGt3w6Xw_8K",
        "outputId": "fbf53871-71b4-425d-97ee-294d329b57fc"
      },
      "execution_count": null,
      "outputs": [
        {
          "output_type": "stream",
          "name": "stdout",
          "text": [
            "<!DOCTYPE html>\n",
            "<html>\n",
            " <head>\n",
            "  <title>\n",
            "   Page Title\n",
            "  </title>\n",
            " </head>\n",
            " <body>\n",
            "  <h3>\n",
            "   <b id=\"boldest\">\n",
            "    Lebron James\n",
            "   </b>\n",
            "  </h3>\n",
            "  <p>\n",
            "   Salary:$92,000,000\n",
            "  </p>\n",
            "  <h3>\n",
            "   Stephen Curry\n",
            "  </h3>\n",
            "  <p>\n",
            "   Salary:$85,000,000\n",
            "  </p>\n",
            "  <h4>\n",
            "   Maria C\n",
            "  </h4>\n",
            "  <p>\n",
            "   Salary:$75,000\n",
            "  </p>\n",
            " </body>\n",
            "</html>\n"
          ]
        }
      ]
    },
    {
      "cell_type": "markdown",
      "source": [
        "#TAG\n",
        "\n",
        "Let's say we want the title of the page and the name of the top paid player we can use the Tag. The Tag object corresponds to an HTML tag in the original document, for example, the tag title."
      ],
      "metadata": {
        "id": "F1cVX6V-zeOB"
      }
    },
    {
      "cell_type": "code",
      "source": [
        "#TAG\n",
        "tag_object = soup.title\n",
        "print(\"The Tag object is: \",tag_object)\n",
        "\n",
        "print(\"The tag element is: \", type(tag_object()))\n",
        "\n",
        "print(\"The tag object is: \", soup.h4) #if there is more than one tag with same name the 1st elemt Tag name is called "
      ],
      "metadata": {
        "colab": {
          "base_uri": "https://localhost:8080/"
        },
        "id": "ety0HUODzbyl",
        "outputId": "54efddb4-f44e-4aa6-8f07-8e0af7eb4c5e"
      },
      "execution_count": null,
      "outputs": [
        {
          "output_type": "stream",
          "name": "stdout",
          "text": [
            "The Tag object is:  <title> Page Title </title>\n",
            "The tag element is:  <class 'bs4.element.ResultSet'>\n",
            "The tag object is:  <h4>Maria C</h4>\n"
          ]
        }
      ]
    },
    {
      "cell_type": "code",
      "source": [
        "#to perform Children, Parent & Sibilings tree structure we need to  sabe tag_object as value with SOUP.H4\n",
        "tag_object = soup.h3\n",
        "tag_object"
      ],
      "metadata": {
        "colab": {
          "base_uri": "https://localhost:8080/"
        },
        "id": "yiICptu55zKg",
        "outputId": "49d5e45f-6385-47ee-ce01-297665f8e1eb"
      },
      "execution_count": null,
      "outputs": [
        {
          "output_type": "execute_result",
          "data": {
            "text/plain": [
              "<h3><b id=\"boldest\">Lebron James</b></h3>"
            ]
          },
          "metadata": {},
          "execution_count": 55
        }
      ]
    },
    {
      "cell_type": "markdown",
      "source": [
        "Enclosed in the bold attribute <code>b</code>, it helps to use the tree representation. We can navigate down the tree using the child attribute to get the name.\n",
        "​\n",
        "Children, Parents, and Siblings\n",
        "As stated above the Tag object is a tree of objects we can access the child of the tag or navigate down the branch as follows:"
      ],
      "metadata": {
        "id": "I9ElwB8p2Cfe"
      }
    },
    {
      "cell_type": "code",
      "source": [
        "tag_child =tag_object.b\n",
        "tag_child\n",
        "\n",
        "parent_tag = tag_object.parent #to access the body elements \n",
        "parent_tag\n"
      ],
      "metadata": {
        "colab": {
          "base_uri": "https://localhost:8080/"
        },
        "id": "6fBoMNbL145V",
        "outputId": "b435fc27-3a8d-4474-8ca3-0238930aa5e9"
      },
      "execution_count": null,
      "outputs": [
        {
          "output_type": "execute_result",
          "data": {
            "text/plain": [
              "<body><h3><b id=\"boldest\">Lebron James</b></h3><p> Salary:$92,000,000 </p><h3>Stephen Curry</h3><p> Salary:$85,000,000 </p><h4>Maria C</h4><p>Salary:$75,000</p></body>"
            ]
          },
          "metadata": {},
          "execution_count": 73
        }
      ]
    },
    {
      "cell_type": "code",
      "source": [
        "sibling_1 = tag_object.next_sibling\n",
        "sibling_1 #got salari of id 1"
      ],
      "metadata": {
        "colab": {
          "base_uri": "https://localhost:8080/"
        },
        "id": "aokpz1SA69U2",
        "outputId": "be091035-3e61-4623-ce73-4be17625924a"
      },
      "execution_count": null,
      "outputs": [
        {
          "output_type": "execute_result",
          "data": {
            "text/plain": [
              "<p> Salary:$92,000,000 </p>"
            ]
          },
          "metadata": {},
          "execution_count": 65
        }
      ]
    },
    {
      "cell_type": "code",
      "source": [
        "sibling_2 = sibling_1.next_sibling\n",
        "sibling_2 #next line of tree data"
      ],
      "metadata": {
        "colab": {
          "base_uri": "https://localhost:8080/"
        },
        "id": "4qrXIugZ79TN",
        "outputId": "b7933413-e7e7-4e62-c049-4348a799c585"
      },
      "execution_count": null,
      "outputs": [
        {
          "output_type": "execute_result",
          "data": {
            "text/plain": [
              "<h3>Stephen Curry</h3>"
            ]
          },
          "metadata": {},
          "execution_count": 67
        }
      ]
    },
    {
      "cell_type": "code",
      "source": [
        "sibling_3 = sibling_2.next_sibling\n",
        "sibling_3 "
      ],
      "metadata": {
        "colab": {
          "base_uri": "https://localhost:8080/"
        },
        "id": "9o7vGYZaCw0m",
        "outputId": "0216be95-a0d0-402a-9fb3-882fa3771e33"
      },
      "execution_count": null,
      "outputs": [
        {
          "output_type": "execute_result",
          "data": {
            "text/plain": [
              "<p> Salary:$85,000,000 </p>"
            ]
          },
          "metadata": {},
          "execution_count": 69
        }
      ]
    },
    {
      "cell_type": "markdown",
      "source": [
        "HTML attributes\n",
        "If the tag has attributes, the tag id=\"boldest\" has an attribute id whose value is boldest. You can access a tag’s attributes by treating the tag like a dictionary: "
      ],
      "metadata": {
        "id": "NwT_UyASEYqc"
      }
    },
    {
      "cell_type": "code",
      "source": [
        "tag_child[\"id\"]"
      ],
      "metadata": {
        "colab": {
          "base_uri": "https://localhost:8080/",
          "height": 36
        },
        "id": "h-UzXSldEXJU",
        "outputId": "fa09450c-58a5-447d-8974-61c8d466c380"
      },
      "execution_count": null,
      "outputs": [
        {
          "output_type": "execute_result",
          "data": {
            "text/plain": [
              "'boldest'"
            ],
            "application/vnd.google.colaboratory.intrinsic+json": {
              "type": "string"
            }
          },
          "metadata": {},
          "execution_count": 74
        }
      ]
    },
    {
      "cell_type": "code",
      "source": [
        "#access the dictionary directly as attrs:\n",
        "tag_child.attrs"
      ],
      "metadata": {
        "colab": {
          "base_uri": "https://localhost:8080/"
        },
        "id": "hb900mw1Eodp",
        "outputId": "cef1c3b4-c3db-4ee9-b866-3f304329ac4e"
      },
      "execution_count": null,
      "outputs": [
        {
          "output_type": "execute_result",
          "data": {
            "text/plain": [
              "{'id': 'boldest'}"
            ]
          },
          "metadata": {},
          "execution_count": 76
        }
      ]
    },
    {
      "cell_type": "code",
      "source": [
        "#Also obtain the content if the attribute of the tag using Python get() method\n",
        "tag_child.get('id') #attributes \n",
        "tag_child\n"
      ],
      "metadata": {
        "colab": {
          "base_uri": "https://localhost:8080/"
        },
        "id": "Pi9RE_wnGgWk",
        "outputId": "699d345c-daa9-4059-f8f8-d870cb0713c4"
      },
      "execution_count": null,
      "outputs": [
        {
          "output_type": "execute_result",
          "data": {
            "text/plain": [
              "<b id=\"boldest\">Lebron James</b>"
            ]
          },
          "metadata": {},
          "execution_count": 85
        }
      ]
    },
    {
      "cell_type": "markdown",
      "source": [
        "#Navigable String\n",
        "A string corresponds to a bit of text or content within a tag. Beautiful Soup uses the NavigableString class to contain this text. In our HTML we can obtain the name of the first player by extracting the sting of the Tag object tag_child as follows:"
      ],
      "metadata": {
        "id": "tqmbdhJUI6nU"
      }
    },
    {
      "cell_type": "code",
      "source": [
        "tag_string = tag_child.string\n",
        "tag_string\n",
        "#type(tag_string)"
      ],
      "metadata": {
        "colab": {
          "base_uri": "https://localhost:8080/",
          "height": 36
        },
        "id": "PoCXroClJAAc",
        "outputId": "6a900a5f-0759-43c3-e820-234f443deefd"
      },
      "execution_count": null,
      "outputs": [
        {
          "output_type": "execute_result",
          "data": {
            "text/plain": [
              "'Lebron James'"
            ],
            "application/vnd.google.colaboratory.intrinsic+json": {
              "type": "string"
            }
          },
          "metadata": {},
          "execution_count": 89
        }
      ]
    },
    {
      "cell_type": "code",
      "source": [
        "#A NavigableString is just like a Python string or Unicode string, to be more precise. The main difference is that it also supports some BeautifulSoup features. We can covert it to sting object in Python:\n",
        "uncode_string = str(tag_string)\n",
        "uncode_string"
      ],
      "metadata": {
        "colab": {
          "base_uri": "https://localhost:8080/",
          "height": 36
        },
        "id": "ktGmggQkJtMY",
        "outputId": "dd586b94-07b4-4dcc-9413-66a96754c991"
      },
      "execution_count": null,
      "outputs": [
        {
          "output_type": "execute_result",
          "data": {
            "text/plain": [
              "'Lebron James'"
            ],
            "application/vnd.google.colaboratory.intrinsic+json": {
              "type": "string"
            }
          },
          "metadata": {},
          "execution_count": 90
        }
      ]
    },
    {
      "cell_type": "markdown",
      "source": [
        "##Filter \n",
        "\n",
        "Filters allow you to find complex patterns, the simplest filter is a string. In this section we will pass a string to a different filter method and Beautiful Soup will perform a match against that exact string. Consider the following HTML of rocket launchs:"
      ],
      "metadata": {
        "id": "H874b-QeKF3a"
      }
    },
    {
      "cell_type": "code",
      "source": [
        "%%html\n",
        "<table>\n",
        "  <tr>\n",
        "    <td id='flight' >Flight No</td>\n",
        "    <td>Launch site</td> \n",
        "    <td>Payload mass</td>\n",
        "   </tr>\n",
        "  <tr> \n",
        "    <td>1</td>\n",
        "    <td><a href='https://en.wikipedia.org/wiki/Florida'>Florida</a></td>\n",
        "    <td>300 kg</td>\n",
        "  </tr>\n",
        "  <tr>\n",
        "    <td>2</td>\n",
        "    <td><a href='https://en.wikipedia.org/wiki/Texas'>Texas</a></td>\n",
        "    <td>94 kg</td>\n",
        "  </tr>\n",
        "  <tr>\n",
        "    <td>3</td>\n",
        "    <td><a href='https://en.wikipedia.org/wiki/Florida'>Florida<a> </td>\n",
        "    <td>80 kg</td>\n",
        "  </tr>\n",
        "</table>"
      ],
      "metadata": {
        "colab": {
          "base_uri": "https://localhost:8080/",
          "height": 103
        },
        "id": "nyZFXqqUKEIa",
        "outputId": "2bf143e1-0b7a-4912-c0df-f9c77691302a"
      },
      "execution_count": null,
      "outputs": [
        {
          "output_type": "display_data",
          "data": {
            "text/plain": [
              "<IPython.core.display.HTML object>"
            ],
            "text/html": [
              "<table>\n",
              "  <tr>\n",
              "    <td id='flight' >Flight No</td>\n",
              "    <td>Launch site</td> \n",
              "    <td>Payload mass</td>\n",
              "   </tr>\n",
              "  <tr> \n",
              "    <td>1</td>\n",
              "    <td><a href='https://en.wikipedia.org/wiki/Florida'>Florida</a></td>\n",
              "    <td>300 kg</td>\n",
              "  </tr>\n",
              "  <tr>\n",
              "    <td>2</td>\n",
              "    <td><a href='https://en.wikipedia.org/wiki/Texas'>Texas</a></td>\n",
              "    <td>94 kg</td>\n",
              "  </tr>\n",
              "  <tr>\n",
              "    <td>3</td>\n",
              "    <td><a href='https://en.wikipedia.org/wiki/Florida'>Florida<a> </td>\n",
              "    <td>80 kg</td>\n",
              "  </tr>\n",
              "</table>"
            ]
          },
          "metadata": {}
        }
      ]
    },
    {
      "cell_type": "code",
      "source": [
        "table=\"<table><tr><td id='flight'>Flight No</td><td>Launch site</td> <td>Payload mass</td></tr><tr> <td>1</td><td><a href='https://en.wikipedia.org/wiki/Florida'>Florida<a></td><td>300 kg</td></tr><tr><td>2</td><td><a href='https://en.wikipedia.org/wiki/Texas'>Texas</a></td><td>94 kg</td></tr><tr><td>3</td><td><a href='https://en.wikipedia.org/wiki/Florida'>Florida<a> </td><td>80 kg</td></tr></table>\"\n",
        "table_bs = BeautifulSoup(table, \"html.parser\") #parser (examine) the data\n",
        "print(table_bs.prettify()) # in a tree data structure but this data is a table so should be store on a new variable table_rows "
      ],
      "metadata": {
        "colab": {
          "base_uri": "https://localhost:8080/"
        },
        "id": "V_8MgQ6sKkho",
        "outputId": "21bfe861-0658-4ef1-d96a-d37896b02163"
      },
      "execution_count": null,
      "outputs": [
        {
          "output_type": "stream",
          "name": "stdout",
          "text": [
            "<table>\n",
            " <tr>\n",
            "  <td id=\"flight\">\n",
            "   Flight No\n",
            "  </td>\n",
            "  <td>\n",
            "   Launch site\n",
            "  </td>\n",
            "  <td>\n",
            "   Payload mass\n",
            "  </td>\n",
            " </tr>\n",
            " <tr>\n",
            "  <td>\n",
            "   1\n",
            "  </td>\n",
            "  <td>\n",
            "   <a href=\"https://en.wikipedia.org/wiki/Florida\">\n",
            "    Florida\n",
            "    <a>\n",
            "    </a>\n",
            "   </a>\n",
            "  </td>\n",
            "  <td>\n",
            "   300 kg\n",
            "  </td>\n",
            " </tr>\n",
            " <tr>\n",
            "  <td>\n",
            "   2\n",
            "  </td>\n",
            "  <td>\n",
            "   <a href=\"https://en.wikipedia.org/wiki/Texas\">\n",
            "    Texas\n",
            "   </a>\n",
            "  </td>\n",
            "  <td>\n",
            "   94 kg\n",
            "  </td>\n",
            " </tr>\n",
            " <tr>\n",
            "  <td>\n",
            "   3\n",
            "  </td>\n",
            "  <td>\n",
            "   <a href=\"https://en.wikipedia.org/wiki/Florida\">\n",
            "    Florida\n",
            "    <a>\n",
            "    </a>\n",
            "   </a>\n",
            "  </td>\n",
            "  <td>\n",
            "   80 kg\n",
            "  </td>\n",
            " </tr>\n",
            "</table>\n"
          ]
        }
      ]
    },
    {
      "cell_type": "markdown",
      "source": [
        "##Find All\n",
        "The find_all() method looks through a tag’s descendants and retrieves all descendants that match your filters.\n",
        "\n",
        "The Method signature for find_all(name, attrs, recursive, string, limit, **kwargs"
      ],
      "metadata": {
        "id": "SeT2DiOaLK_1"
      }
    },
    {
      "cell_type": "code",
      "source": [
        "#Find all methos looks through a tag's descendants and retrieves all descendants that mathch your filters\n",
        "table_rows = table_bs.find_all('tr')\n",
        "table_rows #The result is a Python Iterable just like a list, each element is a tag object:"
      ],
      "metadata": {
        "colab": {
          "base_uri": "https://localhost:8080/"
        },
        "id": "MIAnDXxEKtix",
        "outputId": "199a9c2e-ded1-4b16-8c1f-3de3a3b342eb"
      },
      "execution_count": null,
      "outputs": [
        {
          "output_type": "execute_result",
          "data": {
            "text/plain": [
              "[<tr><td id=\"flight\">Flight No</td><td>Launch site</td> <td>Payload mass</td></tr>,\n",
              " <tr> <td>1</td><td><a href=\"https://en.wikipedia.org/wiki/Florida\">Florida<a></a></a></td><td>300 kg</td></tr>,\n",
              " <tr><td>2</td><td><a href=\"https://en.wikipedia.org/wiki/Texas\">Texas</a></td><td>94 kg</td></tr>,\n",
              " <tr><td>3</td><td><a href=\"https://en.wikipedia.org/wiki/Florida\">Florida<a> </a></a></td><td>80 kg</td></tr>]"
            ]
          },
          "metadata": {},
          "execution_count": 7
        }
      ]
    },
    {
      "cell_type": "markdown",
      "source": [
        "####The result is a Python Iterable just like a list, each element is a tag object:\n"
      ],
      "metadata": {
        "id": "alXCO2MJNQeE"
      }
    },
    {
      "cell_type": "code",
      "source": [
        "first_row = table_rows[0] #tag of the table \n",
        "first_row"
      ],
      "metadata": {
        "colab": {
          "base_uri": "https://localhost:8080/"
        },
        "id": "qUYnBtNaMxIw",
        "outputId": "4c2daca8-bb8a-47f5-8473-dc9a7cbc9e17"
      },
      "execution_count": null,
      "outputs": [
        {
          "output_type": "execute_result",
          "data": {
            "text/plain": [
              "<tr><td id=\"flight\">Flight No</td><td>Launch site</td> <td>Payload mass</td></tr>"
            ]
          },
          "metadata": {},
          "execution_count": 9
        }
      ]
    },
    {
      "cell_type": "code",
      "source": [
        "#The type is tag\n",
        "print(type(first_row))"
      ],
      "metadata": {
        "colab": {
          "base_uri": "https://localhost:8080/"
        },
        "id": "cwnoR_ftNGxW",
        "outputId": "5e21a8f2-5369-4e56-c082-1b96bfd2f311"
      },
      "execution_count": null,
      "outputs": [
        {
          "output_type": "stream",
          "name": "stdout",
          "text": [
            "<class 'bs4.element.Tag'>\n"
          ]
        }
      ]
    },
    {
      "cell_type": "code",
      "source": [
        "#Get the child\n",
        "first_row.td"
      ],
      "metadata": {
        "colab": {
          "base_uri": "https://localhost:8080/"
        },
        "id": "HyQIRNs1NT74",
        "outputId": "94b5f3b7-319b-4575-e0fe-df77d62dab53"
      },
      "execution_count": null,
      "outputs": [
        {
          "output_type": "execute_result",
          "data": {
            "text/plain": [
              "<td id=\"flight\">Flight No</td>"
            ]
          },
          "metadata": {},
          "execution_count": 11
        }
      ]
    },
    {
      "cell_type": "code",
      "source": [
        "##iterate through the list, each element correspond to a row in the table\n",
        "for i, row in enumerate(table_rows):\n",
        "  print(\"row\", i, \"is\", row)"
      ],
      "metadata": {
        "colab": {
          "base_uri": "https://localhost:8080/"
        },
        "id": "YOhqBeI9NqYl",
        "outputId": "70955624-ba52-4fa7-c7bb-9492e7179fb7"
      },
      "execution_count": null,
      "outputs": [
        {
          "output_type": "stream",
          "name": "stdout",
          "text": [
            "row 0 is <tr><td id=\"flight\">Flight No</td><td>Launch site</td> <td>Payload mass</td></tr>\n",
            "row 1 is <tr> <td>1</td><td><a href=\"https://en.wikipedia.org/wiki/Florida\">Florida<a></a></a></td><td>300 kg</td></tr>\n",
            "row 2 is <tr><td>2</td><td><a href=\"https://en.wikipedia.org/wiki/Texas\">Texas</a></td><td>94 kg</td></tr>\n",
            "row 3 is <tr><td>3</td><td><a href=\"https://en.wikipedia.org/wiki/Florida\">Florida<a> </a></a></td><td>80 kg</td></tr>\n"
          ]
        }
      ]
    },
    {
      "cell_type": "markdown",
      "source": [
        "As row is a cell object, we can apply the method **find_all** to it and extract table **cells** in the object cells using the tag **td**, this is all the children with the name td. The result is a list, each element corresponds to a cell and is a Tag object, we can iterate through this list as well. We can extract the content using the **string** attribute."
      ],
      "metadata": {
        "id": "Ska5fBFGPIET"
      }
    },
    {
      "cell_type": "code",
      "source": [
        "for i, row in enumerate(table_rows):\n",
        "  print(\"row\", i)\n",
        "  cells = row.find_all('td') #the row is a cell\n",
        "  for j, cell in enumerate(cells):\n",
        "    print(\"column\",j, \"cell\",cell)"
      ],
      "metadata": {
        "colab": {
          "base_uri": "https://localhost:8080/"
        },
        "id": "Ipf8EqwtQCz9",
        "outputId": "2f07d0f0-6635-431a-92dd-924f34e076df"
      },
      "execution_count": null,
      "outputs": [
        {
          "output_type": "stream",
          "name": "stdout",
          "text": [
            "row 0\n",
            "column 0 cell <td id=\"flight\">Flight No</td>\n",
            "column 1 cell <td>Launch site</td>\n",
            "column 2 cell <td>Payload mass</td>\n",
            "row 1\n",
            "column 0 cell <td>1</td>\n",
            "column 1 cell <td><a href=\"https://en.wikipedia.org/wiki/Florida\">Florida<a></a></a></td>\n",
            "column 2 cell <td>300 kg</td>\n",
            "row 2\n",
            "column 0 cell <td>2</td>\n",
            "column 1 cell <td><a href=\"https://en.wikipedia.org/wiki/Texas\">Texas</a></td>\n",
            "column 2 cell <td>94 kg</td>\n",
            "row 3\n",
            "column 0 cell <td>3</td>\n",
            "column 1 cell <td><a href=\"https://en.wikipedia.org/wiki/Florida\">Florida<a> </a></a></td>\n",
            "column 2 cell <td>80 kg</td>\n"
          ]
        }
      ]
    },
    {
      "cell_type": "code",
      "source": [
        "#if we use a list we can match against any item intha list\n",
        "list_input=table_bs.find_all(name=[\"tr\", \"td\"])\n",
        "list_input"
      ],
      "metadata": {
        "colab": {
          "base_uri": "https://localhost:8080/"
        },
        "id": "VmJHt6ZDTR72",
        "outputId": "1e0036ad-da26-4ebf-908b-8f87b2b3233d"
      },
      "execution_count": null,
      "outputs": [
        {
          "output_type": "execute_result",
          "data": {
            "text/plain": [
              "[<tr><td id=\"flight\">Flight No</td><td>Launch site</td> <td>Payload mass</td></tr>,\n",
              " <td id=\"flight\">Flight No</td>,\n",
              " <td>Launch site</td>,\n",
              " <td>Payload mass</td>,\n",
              " <tr> <td>1</td><td><a href=\"https://en.wikipedia.org/wiki/Florida\">Florida<a></a></a></td><td>300 kg</td></tr>,\n",
              " <td>1</td>,\n",
              " <td><a href=\"https://en.wikipedia.org/wiki/Florida\">Florida<a></a></a></td>,\n",
              " <td>300 kg</td>,\n",
              " <tr><td>2</td><td><a href=\"https://en.wikipedia.org/wiki/Texas\">Texas</a></td><td>94 kg</td></tr>,\n",
              " <td>2</td>,\n",
              " <td><a href=\"https://en.wikipedia.org/wiki/Texas\">Texas</a></td>,\n",
              " <td>94 kg</td>,\n",
              " <tr><td>3</td><td><a href=\"https://en.wikipedia.org/wiki/Florida\">Florida<a> </a></a></td><td>80 kg</td></tr>,\n",
              " <td>3</td>,\n",
              " <td><a href=\"https://en.wikipedia.org/wiki/Florida\">Florida<a> </a></a></td>,\n",
              " <td>80 kg</td>]"
            ]
          },
          "metadata": {},
          "execution_count": 19
        }
      ]
    },
    {
      "cell_type": "markdown",
      "source": [
        "Attributes\n",
        "If the argument is not recognized it will be turned into a filter on the tag’s attributes. For example the id argument, Beautiful Soup will filter against each tag’s id attribute. For example, the first td elements have a value of id of flight, therefore we can filter based on that id value."
      ],
      "metadata": {
        "id": "66gomfzDUQpf"
      }
    },
    {
      "cell_type": "code",
      "source": [
        "table_bs.find_all(id=\"flight\")"
      ],
      "metadata": {
        "colab": {
          "base_uri": "https://localhost:8080/"
        },
        "id": "vS76T2TFUff6",
        "outputId": "e76c73bd-7990-4b89-ce1d-6662c35b76ad"
      },
      "execution_count": null,
      "outputs": [
        {
          "output_type": "execute_result",
          "data": {
            "text/plain": [
              "[<td id=\"flight\">Flight No</td>]"
            ]
          },
          "metadata": {},
          "execution_count": 21
        }
      ]
    },
    {
      "cell_type": "code",
      "source": [
        "#find all the links that have links to Florida Wikipedia page\n",
        "list_input = table_bs(href=\"https://en.wikipedia.org/wiki/Florida\")\n",
        "list_input"
      ],
      "metadata": {
        "colab": {
          "base_uri": "https://localhost:8080/"
        },
        "id": "dBgmC5laUy9F",
        "outputId": "10752fe8-910b-414a-e18d-b34e4ee93744"
      },
      "execution_count": null,
      "outputs": [
        {
          "output_type": "execute_result",
          "data": {
            "text/plain": [
              "[<a href=\"https://en.wikipedia.org/wiki/Florida\">Florida<a></a></a>,\n",
              " <a href=\"https://en.wikipedia.org/wiki/Florida\">Florida<a> </a></a>]"
            ]
          },
          "metadata": {},
          "execution_count": 22
        }
      ]
    },
    {
      "cell_type": "markdown",
      "source": [
        "If we set the  href attribute to True, regardless of what the value is, the code finds all tags with href value:"
      ],
      "metadata": {
        "id": "2huGz8bmVxMw"
      }
    },
    {
      "cell_type": "code",
      "source": [
        "list_input = table_bs(href=True)\n",
        "list_input"
      ],
      "metadata": {
        "colab": {
          "base_uri": "https://localhost:8080/"
        },
        "id": "bYDlIqX9VyFv",
        "outputId": "4e7cd62b-b0e6-4a74-8f43-db5de75232b5"
      },
      "execution_count": null,
      "outputs": [
        {
          "output_type": "execute_result",
          "data": {
            "text/plain": [
              "[<a href=\"https://en.wikipedia.org/wiki/Florida\">Florida<a></a></a>,\n",
              " <a href=\"https://en.wikipedia.org/wiki/Texas\">Texas</a>,\n",
              " <a href=\"https://en.wikipedia.org/wiki/Florida\">Florida<a> </a></a>]"
            ]
          },
          "metadata": {},
          "execution_count": 23
        }
      ]
    },
    {
      "cell_type": "code",
      "source": [
        "print(\"Sorry, I made a mistake\")"
      ],
      "metadata": {
        "colab": {
          "base_uri": "https://localhost:8080/"
        },
        "id": "-Pcxi02Xue4L",
        "outputId": "9fa60d32-3b5d-485b-8e18-33ba6db6e5fe"
      },
      "execution_count": null,
      "outputs": [
        {
          "output_type": "stream",
          "name": "stdout",
          "text": [
            "Sorry, I made a mistake\n"
          ]
        }
      ]
    }
  ]
}