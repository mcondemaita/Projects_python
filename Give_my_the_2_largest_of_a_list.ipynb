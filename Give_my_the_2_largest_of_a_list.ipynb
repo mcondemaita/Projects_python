{
  "nbformat": 4,
  "nbformat_minor": 0,
  "metadata": {
    "colab": {
      "name": "Give my the 2 largest of a list.ipynb",
      "provenance": [],
      "authorship_tag": "ABX9TyO1BOmGFC4ZYftO7OjDWTct",
      "include_colab_link": true
    },
    "kernelspec": {
      "name": "python3",
      "display_name": "Python 3"
    },
    "language_info": {
      "name": "python"
    }
  },
  "cells": [
    {
      "cell_type": "markdown",
      "metadata": {
        "id": "view-in-github",
        "colab_type": "text"
      },
      "source": [
        "<a href=\"https://colab.research.google.com/github/mcondemaita/Projects_python/blob/main/Give_my_the_2_largest_of_a_list.ipynb\" target=\"_parent\"><img src=\"https://colab.research.google.com/assets/colab-badge.svg\" alt=\"Open In Colab\"/></a>"
      ]
    },
    {
      "cell_type": "code",
      "execution_count": 1,
      "metadata": {
        "id": "be7ZUwVAr05I"
      },
      "outputs": [],
      "source": [
        "def second_largest(given_list): \n",
        "\n",
        "  largest = None\n",
        "  second_largest = None\n",
        "\n",
        "  for current_number in given_list: \n",
        "\n",
        "    if largest == None:\n",
        "      largest = current_number #number will be the first number in the list\n",
        "\n",
        "    elif current_number > largest:\n",
        "      second_largest = largest #dont lose the value of largest \n",
        "      largest = current_number\n",
        "\n",
        "    elif second_largest == None: \n",
        "      second_lasgest = current_number #looking at the 2nd number on the current list \n",
        "\n",
        "    elif current_number > second_largest:\n",
        "      second_largest = current_number\n",
        "\n",
        "  return second_largest   "
      ]
    },
    {
      "cell_type": "code",
      "source": [
        "print(\"idk\")\n",
        "print(second_largest([1,3,4]))"
      ],
      "metadata": {
        "colab": {
          "base_uri": "https://localhost:8080/"
        },
        "id": "6KWH3fRluGQG",
        "outputId": "c39e2b26-b6b8-49de-eb99-9f27b0ee946f"
      },
      "execution_count": 2,
      "outputs": [
        {
          "output_type": "stream",
          "name": "stdout",
          "text": [
            "idk\n",
            "3\n"
          ]
        }
      ]
    },
    {
      "cell_type": "code",
      "source": [
        "list1= [1,2,3,4,6]\n",
        "list1.sort()\n",
        "print(list1[-2])"
      ],
      "metadata": {
        "colab": {
          "base_uri": "https://localhost:8080/"
        },
        "id": "yLRn1QWcwIcB",
        "outputId": "966e3f45-c1ea-4c7e-a0ab-7feeb99bb4f6"
      },
      "execution_count": 3,
      "outputs": [
        {
          "output_type": "stream",
          "name": "stdout",
          "text": [
            "4\n"
          ]
        }
      ]
    },
    {
      "cell_type": "code",
      "source": [
        "#revese string\n",
        "\n",
        "#funtion that takes two strings\n",
        "def are_reverses(string_1, string_2):\n",
        "\n",
        "  for i in  range(len(string_1)):\n",
        "    i_2 = len(string_2) -i -1 #start for loop from the last item\n",
        "\n",
        "    if string_1[i] != string_2[i_2]:\n",
        "      return False\n",
        "\n",
        "  return True\n",
        "\n",
        "# call the funtion \n",
        "\n",
        "print(are_reverses(\"Maria\", \"airaM\"))\n",
        "\n",
        "\n"
      ],
      "metadata": {
        "colab": {
          "base_uri": "https://localhost:8080/"
        },
        "id": "zK7rHQdn0OZs",
        "outputId": "d33d7edb-4710-4dd9-cd70-2b3e187c2f1b"
      },
      "execution_count": 7,
      "outputs": [
        {
          "output_type": "stream",
          "name": "stdout",
          "text": [
            "True\n"
          ]
        }
      ]
    },
    {
      "cell_type": "code",
      "source": [
        ""
      ],
      "metadata": {
        "id": "vGjuz9yN02ON"
      },
      "execution_count": null,
      "outputs": []
    }
  ]
}